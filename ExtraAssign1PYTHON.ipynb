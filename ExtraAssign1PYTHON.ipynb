{
 "cells": [
  {
   "cell_type": "code",
   "execution_count": 1,
   "id": "cdea20bf",
   "metadata": {},
   "outputs": [
    {
     "name": "stdout",
     "output_type": "stream",
     "text": [
      "Hope AI\n"
     ]
    }
   ],
   "source": [
    "print(\"Hope AI\")"
   ]
  },
  {
   "cell_type": "code",
   "execution_count": 1,
   "id": "7603cf43",
   "metadata": {},
   "outputs": [
    {
     "name": "stdout",
     "output_type": "stream",
     "text": [
      "Enter your institute name:Hope Artificial Intelligence\n"
     ]
    }
   ],
   "source": [
    "name=input(\"Enter your institute name:\")"
   ]
  },
  {
   "cell_type": "code",
   "execution_count": 1,
   "id": "0a10f84f",
   "metadata": {},
   "outputs": [
    {
     "name": "stdout",
     "output_type": "stream",
     "text": [
      "Enter Your Name:Rubhini\n",
      "Enter your age:28\n",
      "Enter your School name:Vivekananda\n",
      "Enter your Degree:MCA\n"
     ]
    }
   ],
   "source": [
    "name=input(\"Enter Your Name:\")\n",
    "age=int(input(\"Enter your age:\"))\n",
    "schoolName=input(\"Enter your School name:\")\n",
    "degree=input(\"Enter your Degree:\")"
   ]
  },
  {
   "cell_type": "code",
   "execution_count": 3,
   "id": "a1ae81ba",
   "metadata": {},
   "outputs": [
    {
     "name": "stdout",
     "output_type": "stream",
     "text": [
      "A: 43\n",
      "B: 34\n",
      "Addition: 77\n"
     ]
    }
   ],
   "source": [
    "a=43\n",
    "print(\"A:\",a)\n",
    "b=34\n",
    "print(\"B:\",b)\n",
    "print(\"Addition:\",a+b)"
   ]
  },
  {
   "cell_type": "code",
   "execution_count": 4,
   "id": "7a27d23d",
   "metadata": {},
   "outputs": [
    {
     "name": "stdout",
     "output_type": "stream",
     "text": [
      "A: 43\n",
      "B: 54\n",
      "Subtraction: 97\n"
     ]
    }
   ],
   "source": [
    "a=43\n",
    "print(\"A:\",a)\n",
    "b=54\n",
    "print(\"B:\",b)\n",
    "print(\"Subtraction:\",a+b)\n"
   ]
  },
  {
   "cell_type": "code",
   "execution_count": 5,
   "id": "a81b91c7",
   "metadata": {},
   "outputs": [
    {
     "name": "stdout",
     "output_type": "stream",
     "text": [
      "C: 50\n",
      "D: 10\n",
      "Multiplication: 500\n"
     ]
    }
   ],
   "source": [
    "c=50\n",
    "print(\"C:\",c)\n",
    "d=10\n",
    "print('D:',d)\n",
    "print(\"Multiplication:\",c*d)\n"
   ]
  },
  {
   "cell_type": "code",
   "execution_count": 6,
   "id": "5a413365",
   "metadata": {},
   "outputs": [
    {
     "name": "stdout",
     "output_type": "stream",
     "text": [
      "X: 76\n",
      "Y: 31\n",
      "Float Division: 2.4516129032258065\n"
     ]
    }
   ],
   "source": [
    "x=76\n",
    "print(\"X:\",x)\n",
    "y=31\n",
    "print(\"Y:\",y)\n",
    "print(\"Float Division:\",x/y)"
   ]
  },
  {
   "cell_type": "code",
   "execution_count": 7,
   "id": "7da8405f",
   "metadata": {},
   "outputs": [
    {
     "name": "stdout",
     "output_type": "stream",
     "text": [
      "X: 76\n",
      "Y: 31\n",
      "Floor Division: 2\n"
     ]
    }
   ],
   "source": [
    "x=76\n",
    "print(\"X:\",x)\n",
    "y=31\n",
    "print(\"Y:\",y)\n",
    "print(\"Floor Division:\",x//y)"
   ]
  },
  {
   "cell_type": "code",
   "execution_count": 8,
   "id": "45c318c4",
   "metadata": {},
   "outputs": [
    {
     "name": "stdout",
     "output_type": "stream",
     "text": [
      "A: 76\n",
      "B: 31\n",
      "Modulo: 14\n"
     ]
    }
   ],
   "source": [
    "a=76\n",
    "print(\"A:\",a)\n",
    "b=31\n",
    "print(\"B:\",b)\n",
    "print(\"Modulo:\",a%b)"
   ]
  },
  {
   "cell_type": "code",
   "execution_count": 9,
   "id": "4c7f7825",
   "metadata": {},
   "outputs": [
    {
     "name": "stdout",
     "output_type": "stream",
     "text": [
      "X: 4\n",
      "Y: 2\n",
      "Power: 16\n"
     ]
    }
   ],
   "source": [
    "x=4\n",
    "print(\"X:\",x)\n",
    "y=2\n",
    "print(\"Y:\",y)\n",
    "print(\"Power:\",x**y)"
   ]
  },
  {
   "cell_type": "code",
   "execution_count": null,
   "id": "dea07ea9",
   "metadata": {},
   "outputs": [],
   "source": []
  }
 ],
 "metadata": {
  "kernelspec": {
   "display_name": "Python 3 (ipykernel)",
   "language": "python",
   "name": "python3"
  },
  "language_info": {
   "codemirror_mode": {
    "name": "ipython",
    "version": 3
   },
   "file_extension": ".py",
   "mimetype": "text/x-python",
   "name": "python",
   "nbconvert_exporter": "python",
   "pygments_lexer": "ipython3",
   "version": "3.11.4"
  }
 },
 "nbformat": 4,
 "nbformat_minor": 5
}
